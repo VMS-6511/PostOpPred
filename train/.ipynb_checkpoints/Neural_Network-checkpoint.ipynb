{
 "cells": [
  {
   "cell_type": "code",
   "execution_count": 40,
   "metadata": {},
   "outputs": [],
   "source": [
    "import pandas as pd\n",
    "import numpy as np\n",
    "import tensorflow as tf\n",
    "from keras.models import Sequential\n",
    "from keras.layers import Dense, Dropout\n",
    "import ast\n",
    "\n",
    "outcomes_train_df = pd.read_csv('../preprocessing/outcomes_data_train.csv')\n",
    "outcomes_test_df = pd.read_csv('../preprocessing/outcomes_data_test.csv')\n",
    "\n",
    "X_train = outcomes_train_df[['PRE6','PRE9', 'PRE10', 'PRE14',\n",
    "                            'PRE17']].values\n",
    "y_train = outcomes_train_df[['Risk1Yr']].values\n",
    "\n",
    "X_test = outcomes_test_df[['PRE6','PRE9', 'PRE10', 'PRE14',\n",
    "                            'PRE17']].values\n",
    "y_test = outcomes_test_df[['Risk1Yr']].values\n",
    "\n",
    "def convert_to_numpy(dataframe):\n",
    "    new_dataframe = []\n",
    "    for row in dataframe.tolist():\n",
    "        for value in range(len(row)):\n",
    "            if isinstance(row[value], str):\n",
    "                row[value] = ast.literal_eval(row[value])\n",
    "        #row = [item for sublist in row for item in row]\n",
    "        new_row = []\n",
    "        for element in row:\n",
    "            if isinstance(element,list):\n",
    "                for value in element:\n",
    "                    new_row.append(value)\n",
    "                continue\n",
    "            new_row.append(element)\n",
    "        new_dataframe.append(new_row)\n",
    "    return np.asarray(new_dataframe)\n",
    "\n",
    "X_train = convert_to_numpy(X_train)\n",
    "X_test = convert_to_numpy(X_test)\n",
    "            \n",
    "    "
   ]
  },
  {
   "cell_type": "code",
   "execution_count": 41,
   "metadata": {},
   "outputs": [
    {
     "data": {
      "text/plain": [
       "(600, 25)"
      ]
     },
     "execution_count": 41,
     "metadata": {},
     "output_type": "execute_result"
    }
   ],
   "source": [
    "X_train.shape"
   ]
  },
  {
   "cell_type": "markdown",
   "metadata": {},
   "source": [
    "## Model"
   ]
  },
  {
   "cell_type": "code",
   "execution_count": 46,
   "metadata": {},
   "outputs": [
    {
     "name": "stdout",
     "output_type": "stream",
     "text": [
      "150/150 [==============================] - 0s 2ms/step\n",
      "Test accuracy:  0.5533333122730255\n"
     ]
    }
   ],
   "source": [
    "model = Sequential()\n",
    "model.add(Dense(32, input_dim=25, activation='relu'))\n",
    "model.add(Dropout(0.5))\n",
    "model.add(Dense(32, activation='relu'))\n",
    "model.add(Dropout(0.5))\n",
    "model.add(Dense(1, activation='sigmoid'))\n",
    "\n",
    "model.compile(loss='binary_crossentropy',\n",
    "              optimizer='adam',\n",
    "              metrics=['accuracy'])\n",
    "\n",
    "model.fit(X_train, y_train,\n",
    "          epochs=1000,\n",
    "          batch_size=100, verbose=0)\n",
    "\n",
    "score, acc = model.evaluate(X_test, y_test, batch_size=100)\n",
    "print('Test accuracy: ', acc)"
   ]
  },
  {
   "cell_type": "code",
   "execution_count": null,
   "metadata": {},
   "outputs": [],
   "source": []
  }
 ],
 "metadata": {
  "kernelspec": {
   "display_name": "PostOp",
   "language": "python",
   "name": "postop"
  },
  "language_info": {
   "codemirror_mode": {
    "name": "ipython",
    "version": 3
   },
   "file_extension": ".py",
   "mimetype": "text/x-python",
   "name": "python",
   "nbconvert_exporter": "python",
   "pygments_lexer": "ipython3",
   "version": "3.6.8"
  }
 },
 "nbformat": 4,
 "nbformat_minor": 2
}
